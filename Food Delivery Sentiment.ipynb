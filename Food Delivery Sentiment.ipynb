{
 "cells": [
  {
   "cell_type": "code",
   "execution_count": 9,
   "id": "4e51c407-7fdc-41df-82ef-8704a954e07d",
   "metadata": {},
   "outputs": [],
   "source": [
    "#IMPORTING OF ESSENTIAL LIBS\n",
    "\n",
    "import pandas as pd\n",
    "import numpy as np  \n",
    "import nltk\n",
    "import re\n",
    "from nltk.corpus import stopwords\n",
    "from nltk.tokenize import word_tokenize\n",
    "import matplotlib.pyplot as plt\n",
    "from nrclex import NRCLex\n",
    "import seaborn as sns"
   ]
  },
  {
   "cell_type": "code",
   "execution_count": 2,
   "id": "d99e168f-adea-4f37-8e8b-1810e8e35644",
   "metadata": {},
   "outputs": [],
   "source": [
    "REVIEWS = pd.read_excel(r\"C:\\Users\\parth\\Downloads\\customer_reviews_1000_food_delivery.xlsx\")"
   ]
  },
  {
   "cell_type": "code",
   "execution_count": 4,
   "id": "b43a5415-d288-44e3-8267-7f92b60dd703",
   "metadata": {},
   "outputs": [],
   "source": [
    "stop_words = set(stopwords.words('english'))\n",
    "\n",
    "def clean_text(text):\n",
    "    text = str(text).lower()\n",
    "    text = re.sub(r'[^a-zA-Z\\s]', '', text)\n",
    "    tokens = word_tokenize(text)\n",
    "    tokens = [t for t in tokens if t not in stop_words]\n",
    "    return ' '.join(tokens)"
   ]
  },
  {
   "cell_type": "code",
   "execution_count": 5,
   "id": "af1c1132-15fa-4624-910d-694e37b27c28",
   "metadata": {},
   "outputs": [],
   "source": [
    "def get_emotions(text):\n",
    "    emo = NRCLex(text)\n",
    "    return emo.raw_emotion_scores  # returns a dict of emotions with counts"
   ]
  },
  {
   "cell_type": "code",
   "execution_count": 13,
   "id": "5f1b6122-c978-4b29-b2ef-b772f327e3e2",
   "metadata": {},
   "outputs": [],
   "source": [
    "REVIEWS_PRO=pd.read_excel(\"REVIEWS_PRO.xlsx\")\n",
    "REVIEWS_PRO['cleaned_text'] = REVIEWS_PRO['review_text'].apply(clean_text)\n",
    "REVIEWS_PRO['emotions'] = REVIEWS_PRO['cleaned_text'].apply(get_emotions)"
   ]
  },
  {
   "cell_type": "code",
   "execution_count": 14,
   "id": "0dc58ca0-07fd-46b0-a62a-3eefe4a8d615",
   "metadata": {},
   "outputs": [],
   "source": [
    "def dominant_emotion(emotion_dict):\n",
    "    if len(emotion_dict) == 0:\n",
    "        return 'Neutral'\n",
    "    return max(emotion_dict, key=emotion_dict.get)\n",
    "\n",
    "REVIEWS_PRO['dominant_emotion'] = REVIEWS_PRO['emotions'].apply(dominant_emotion)"
   ]
  },
  {
   "cell_type": "code",
   "execution_count": 16,
   "id": "7b4ffa14-18c3-430c-bd71-c2a983275631",
   "metadata": {},
   "outputs": [],
   "source": [
    "positive_emotions = ['joy', 'trust', 'anticipation', 'surprise']\n",
    "negative_emotions = ['anger', 'fear', 'sadness', 'disgust']"
   ]
  },
  {
   "cell_type": "code",
   "execution_count": 32,
   "id": "ca73d7d7-2f54-4e16-a667-8e0b981377b0",
   "metadata": {},
   "outputs": [],
   "source": [
    "def get_sentiment(emotions):\n",
    "    emo = NRCLex(emotions)\n",
    "    emo_dict = emo.raw_emotion_scores\n",
    "    pos_count = sum([emo_dict.get(e, 0) for e in positive_emotions])\n",
    "    neg_count = sum([emo_dict.get(e, 0) for e in negative_emotions])\n",
    "    \n",
    "    if pos_count > neg_count:\n",
    "        return 'Positive'\n",
    "    elif neg_count > pos_count:\n",
    "        return 'Negative'\n",
    "    else:\n",
    "        return 'Neutral'\n",
    "        return {'pos_count': pos_count, 'neg_count': neg_count, 'emotions': sentiment}"
   ]
  },
  {
   "cell_type": "code",
   "execution_count": 33,
   "id": "18c84689-72ea-416b-84e4-626a357840a2",
   "metadata": {},
   "outputs": [
    {
     "name": "stdout",
     "output_type": "stream",
     "text": [
      "                                         review_text  \\\n",
      "0  The delivery was fast and the food arrived hot...   \n",
      "1  Food tasted great overall, and the delivery wa...   \n",
      "2  Excellent experience from order to arrival. Th...   \n",
      "3  The food was decent but the delivery window wa...   \n",
      "4  Delicious meal and the driver checked in to co...   \n",
      "\n",
      "                                            emotions  \n",
      "0  {'anticipation': 1, 'positive': 2, 'joy': 1, '...  \n",
      "1  {'joy': 1, 'positive': 2, 'trust': 1, 'anticip...  \n",
      "2  {'joy': 1, 'positive': 2, 'trust': 1, 'anticip...  \n",
      "3  {'joy': 1, 'positive': 3, 'trust': 1, 'anticip...  \n",
      "4              {'joy': 1, 'positive': 2, 'trust': 1}  \n"
     ]
    }
   ],
   "source": [
    "print(REVIEWS_PRO[['review_text', 'emotions']].head())"
   ]
  },
  {
   "cell_type": "code",
   "execution_count": 35,
   "id": "3f3d058a-fcba-4aca-8fb9-d93d5830eb5e",
   "metadata": {},
   "outputs": [],
   "source": [
    "REVIEWS_PRO['emotions'] = REVIEWS_PRO['cleaned_text'].apply(get_sentiment)"
   ]
  },
  {
   "cell_type": "code",
   "execution_count": 37,
   "id": "62fd1f14-ef1f-4616-9297-959e38e3c831",
   "metadata": {},
   "outputs": [
    {
     "name": "stdout",
     "output_type": "stream",
     "text": [
      "                                         review_text  emotions\n",
      "0  The delivery was fast and the food arrived hot...  Positive\n",
      "1  Food tasted great overall, and the delivery wa...  Positive\n",
      "2  Excellent experience from order to arrival. Th...  Positive\n",
      "3  The food was decent but the delivery window wa...  Positive\n",
      "4  Delicious meal and the driver checked in to co...  Positive\n",
      "5  Came late and the order was missing a side. Th...  Negative\n",
      "6  Five stars for reliability. My go-to option wh...  Positive\n",
      "7  Order arrived cold and the menu item I chose d...  Positive\n",
      "8  Food was flavorful and portions were generous....   Neutral\n",
      "9  Neutral experience. The app was easy to use, b...  Positive\n"
     ]
    }
   ],
   "source": [
    "print(REVIEWS_PRO[['review_text', 'emotions']].head(10))"
   ]
  },
  {
   "cell_type": "code",
   "execution_count": null,
   "id": "ed79c5ea-58d2-4faf-82fe-a60be60c7449",
   "metadata": {},
   "outputs": [],
   "source": []
  }
 ],
 "metadata": {
  "kernelspec": {
   "display_name": "Python 3 (ipykernel)",
   "language": "python",
   "name": "python3"
  },
  "language_info": {
   "codemirror_mode": {
    "name": "ipython",
    "version": 3
   },
   "file_extension": ".py",
   "mimetype": "text/x-python",
   "name": "python",
   "nbconvert_exporter": "python",
   "pygments_lexer": "ipython3",
   "version": "3.13.1"
  }
 },
 "nbformat": 4,
 "nbformat_minor": 5
}
